{
 "cells": [
  {
   "cell_type": "markdown",
   "metadata": {
    "colab_type": "text",
    "id": "i_f5u2x9nn6I",
    "slideshow": {
     "slide_type": "slide"
    }
   },
   "source": [
    "<left><img width=25% src=\"../source/logo.png\"></left>\n",
    "\n",
    "### Applied Machine Learning\n",
    "\n",
    "## Mehmet Can Yavuz, PhD\n",
    "\n",
    "Adapted from Volodymyr Kuleshov, Cornell Tech\n",
    "\n",
    "# Lecture 1: Introduction to Machine Learning"
   ]
  },
  {
   "cell_type": "markdown",
   "metadata": {
    "slideshow": {
     "slide_type": "slide"
    }
   },
   "source": [
    "# Welcome to Applied Machine Learning!\n",
    "\n",
    "Machine learning is one of today's most exciting emerging technologies.\n",
    "\n",
    "In this course, you will learn what machine learning is, what are some of the most important algorithms in machine learning, and how to apply them to solve problems in the real world."
   ]
  },
  {
   "cell_type": "markdown",
   "metadata": {
    "slideshow": {
     "slide_type": "skip"
    }
   },
   "source": [
    "# Part 1: What is Machine Learning?\n",
    "\n",
    "We hear a lot about machine learning (or ML for short) in the news.\n",
    "\n",
    "<table><tr>\n",
    "    <td><center><img width=90% src=\"../source/img/alphago.jpeg\"/></center></td>\n",
    "    <td><center><img src=\"../source/img/obama2.jpg\"/></center></td>    \n",
    "    <td><center><img width=80% src=\"../source/img/chatgpt.png\"/></center></td>    \n",
    "</tr></table>    \n",
    "\n",
    "But what is it, really?"
   ]
  },
  {
   "cell_type": "markdown",
   "metadata": {
    "slideshow": {
     "slide_type": "slide"
    }
   },
   "source": [
    "# Part 1: What is Machine Learning?\n",
    "\n",
    "The last few years have produced impressive advances in artificial intelligence.\n",
    "\n",
    "<table><tr>\n",
    "    <td><center><img width=95% src=\"../source/img/stable-diffusion-example.png\"/></center></td>\n",
    "<!--     <td><center><img width=100% src=\"img/midjourney-example.png\"/></center></td> -->\n",
    "    <td><center><img width=70% src=\"../source/img/chatgpt.png\"/></center></td>    \n",
    "</tr></table>    \n",
    "\n",
    "Many of these advances have been made possible by _machine learning_."
   ]
  },
  {
   "cell_type": "markdown",
   "metadata": {
    "slideshow": {
     "slide_type": "slide"
    }
   },
   "source": [
    "# ML in Everyday Life: Search Engines\n",
    "\n",
    "You use machine learning every day when use a search engine.\n",
    "\n",
    "<center><img src=\"../source/img/google.png\"/></center>"
   ]
  },
  {
   "cell_type": "markdown",
   "metadata": {
    "slideshow": {
     "slide_type": "skip"
    }
   },
   "source": [
    "# ML in Everyday Life: Personal Assistants\n",
    "\n",
    "Machine learning also powers the speech recognition, question answering and other intelligent capabilities of smartphone assistants like Apple Siri.\n",
    "<table><tr>\n",
    "    <td><center><img src=\"../source/img/siri.png\"/></center></td>\n",
    "    <td><center><img src=\"../source/img/google_assistant.png\"/></center></td>\n",
    "</tr></table>    "
   ]
  },
  {
   "cell_type": "markdown",
   "metadata": {
    "slideshow": {
     "slide_type": "slide"
    }
   },
   "source": [
    "# ML in Everyday Life: Spam/Fraud Detection\n",
    "\n",
    "Machine learning is used in every spam filter, such as in Gmail.\n",
    "<br>\n",
    "<center><img src=\"../source/img/spam.png\"/></center>"
   ]
  },
  {
   "cell_type": "markdown",
   "metadata": {
    "slideshow": {
     "slide_type": "-"
    }
   },
   "source": [
    "ML systems are also used by credit card companies and banks to automatically detect fraudulent behavior."
   ]
  },
  {
   "cell_type": "markdown",
   "metadata": {
    "slideshow": {
     "slide_type": "slide"
    }
   },
   "source": [
    "# ML in Everyday Life: Self-Driving Cars\n",
    "\n",
    "One of the most exciting and cutting-edge uses of machine learning algorithms is in autonomous vehicles.\n",
    "\n",
    "<center><img width=\"80%\" src=\"../source/img/waymo.jpg\"/></center>"
   ]
  },
  {
   "cell_type": "markdown",
   "metadata": {
    "slideshow": {
     "slide_type": "slide"
    }
   },
   "source": [
    "# A Definition of Machine Learning\n",
    "\n",
    "In 1959, Arthur Samuel defined machine learning as follows.\n",
    "\n",
    "> Machine learning is a field of study that gives computers the ability to learn without being explicitly programmed.\n",
    "\n",
    "What does \"learn\" and \"explicitly programmed\" mean here? Let's look at an example."
   ]
  },
  {
   "cell_type": "markdown",
   "metadata": {
    "slideshow": {
     "slide_type": "slide"
    }
   },
   "source": [
    "# An Example: Self Driving Cars\n",
    "\n",
    "A self-driving car system uses dozens of components that include detection of cars, pedestrians, and other objects.\n",
    "<br>\n",
    "<center><img width=80% src=\"../source/img/tesla.jpg\"/></center>"
   ]
  },
  {
   "cell_type": "markdown",
   "metadata": {
    "slideshow": {
     "slide_type": "slide"
    }
   },
   "source": [
    "# Self Driving Cars: A Rule-Based Algorithm\n",
    "\n",
    "One way to build a detection system is to write down rules.\n",
    "<left><img width=50% src=\"img/tesla_zoom.jpg\"/></left>\n",
    "\n",
    "<!-- <table style=\"border: 1px\"><tr>\n",
    "    <td><left>One way to build a detection system is to write down rules.</left></td>\n",
    "    <td><img src=\"img/tesla_zoom.jpg\"/></td>\n",
    "</tr></table> -->"
   ]
  },
  {
   "cell_type": "raw",
   "metadata": {
    "slideshow": {
     "slide_type": "fragment"
    }
   },
   "source": [
    "# pseudocode example for a rule-based classification system\n",
    "object = camera.get_object()\n",
    "if object.has_wheels(): # does the object have wheels?\n",
    "    if len(object.wheels) == 4: return \"Car\" # four wheels => car    \n",
    "    elif len(object.wheels) == 2:\n",
    "        if object.seen_from_back():\n",
    "            return \"Car\" # viewed from back, car has 2 wheels\n",
    "        else:\n",
    "            return \"Bicycle\" # normally, 2 wheels => bicycle\n",
    "return \"Unknown\" # no wheels? we don't know what it is"
   ]
  },
  {
   "cell_type": "markdown",
   "metadata": {
    "slideshow": {
     "slide_type": "fragment"
    }
   },
   "source": [
    "In practice, it's almost impossible for a human to specify all the edge cases."
   ]
  },
  {
   "cell_type": "markdown",
   "metadata": {
    "slideshow": {
     "slide_type": "slide"
    }
   },
   "source": [
    "# Self Driving Cars: An ML Approach\n",
    "\n",
    "The machine learning approach is to teach a computer how to do detection by showing it many examples of different objects.\n",
    "\n",
    "<center><img src=\"../source/img/tesla_data.png\"/></center>\n",
    "\n",
    "No manual programming is needed: the computer learns what defines a pedestrian or a car on its own!"
   ]
  },
  {
   "cell_type": "markdown",
   "metadata": {
    "slideshow": {
     "slide_type": "slide"
    }
   },
   "source": [
    "# Revisiting Our Definition of ML\n",
    "\n",
    "> Machine learning is a field of study that gives computers the ability to learn without being explicitly programmed. (Arthur Samuel, 1959.)\n",
    "\n",
    "This principle can be applied to countless domains:\n",
    "medical diagnosis, factory automation, machine translation, and many more!"
   ]
  },
  {
   "cell_type": "markdown",
   "metadata": {
    "slideshow": {
     "slide_type": "slide"
    }
   },
   "source": [
    "# Why Machine Learning?\n",
    "\n",
    "Why is this approach to building software interesting?"
   ]
  },
  {
   "cell_type": "markdown",
   "metadata": {
    "slideshow": {
     "slide_type": "fragment"
    }
   },
   "source": [
    "* It lets us build practical systems for real-world applications for which other engineering approaches don't work."
   ]
  },
  {
   "cell_type": "markdown",
   "metadata": {
    "slideshow": {
     "slide_type": "fragment"
    }
   },
   "source": [
    "* Learning is widely regarded as a key approach towards building general-purpose artificial intelligence systems."
   ]
  },
  {
   "cell_type": "markdown",
   "metadata": {
    "slideshow": {
     "slide_type": "fragment"
    }
   },
   "source": [
    "* The science and engineering of machine learning offers insights into human intelligence."
   ]
  },
  {
   "cell_type": "markdown",
   "metadata": {
    "slideshow": {
     "slide_type": "slide"
    }
   },
   "source": [
    "# Part 2: Three Approaches to Machine Learning\n",
    "\n",
    "Machine learning is broadly defined as the science of building software that has the ability to learn without being explicitly programmed.\n",
    "\n",
    "How might we enable machines to learn? Let's look at a few examples."
   ]
  },
  {
   "cell_type": "markdown",
   "metadata": {
    "slideshow": {
     "slide_type": "slide"
    }
   },
   "source": [
    "# Supervised Learning\n",
    "\n",
    "The most common approach to machine learning is supervised learning.\n",
    "\n",
    "\n",
    "<center><img width=90% src=\"../source/img/supervised_learning_example.png\"/></center>\n",
    "\n",
    "<sub><sup>Image Credit: DataFlair</sup></sub>"
   ]
  },
  {
   "cell_type": "markdown",
   "metadata": {
    "slideshow": {
     "slide_type": "slide"
    }
   },
   "source": [
    "# Supervised Learning: Object Detection\n",
    "We previously saw an example of supervised learning: object detection.\n",
    "<center><img width=70% src=\"../source/img/tesla_data.png\"/></center>\n",
    "\n",
    "1. We start by collecting a dataset of labeled objects.\n",
    "2. We train a model to output accurate predictions on this dataset.\n",
    "3. When the model sees new, similar data, it will also be accurate."
   ]
  },
  {
   "cell_type": "markdown",
   "metadata": {
    "slideshow": {
     "slide_type": "slide"
    }
   },
   "source": [
    "# Applications of Supervised Learning\n",
    "\n",
    "Many important applications of machine learning are supervised:\n",
    "* Classifying medical images.\n",
    "* Translating between pairs of languages.\n",
    "* Detecting objects in autonomous driving."
   ]
  },
  {
   "cell_type": "markdown",
   "metadata": {
    "slideshow": {
     "slide_type": "slide"
    }
   },
   "source": [
    "# Unsupervised Learning\n",
    "\n",
    "Here, we have a dataset *without* labels.  Our goal is to learn something interesting about the structure of the data.\n",
    "\n",
    "<center><img width=90% src=\"../source/img/unsupervised_learning_example.png\"/></center>\n",
    "\n",
    "\n",
    "<sub><sup>Image Credit: DataFlair</sup></sub>"
   ]
  },
  {
   "cell_type": "markdown",
   "metadata": {
    "slideshow": {
     "slide_type": "slide"
    }
   },
   "source": [
    "# Unsupervised Learning : Text Analysis\n",
    "\n",
    "In this next example, we have a text containing at least four distinct topics.\n",
    "\n",
    "<center><img width=60% src=\"../source/img/lda1.png\"/></center>"
   ]
  },
  {
   "cell_type": "markdown",
   "metadata": {
    "slideshow": {
     "slide_type": "subslide"
    }
   },
   "source": [
    "However, we initially do not know what the topics are.\n",
    "\n",
    "<center><img width=100% src=\"../source/img/lda3.png\"/></center>"
   ]
  },
  {
   "cell_type": "markdown",
   "metadata": {
    "slideshow": {
     "slide_type": "subslide"
    }
   },
   "source": [
    "Unsupervised *topic modeling* algorithms assign each word in a document to a topic and compute topic proportions for each document.\n",
    "\n",
    "<center><img width=100% src=\"../source/img/lda2.png\"/></center>"
   ]
  },
  {
   "cell_type": "markdown",
   "metadata": {
    "slideshow": {
     "slide_type": "slide"
    }
   },
   "source": [
    "# Applications of Unsupervised Learning\n",
    "\n",
    "Unsupervised learning methods have many other applications:\n",
    "* __Recommendation systems__: suggesting movies on Netflix.\n",
    "* __Anomaly and outlier detection__: identifying factory components that are likely to fail soon.\n",
    "* __Signal processing__: extracting clean human speech from a noisy audio recording."
   ]
  },
  {
   "cell_type": "markdown",
   "metadata": {
    "slideshow": {
     "slide_type": "slide"
    }
   },
   "source": [
    "# Reinforcement Learning\n",
    "\n",
    "In reinforcement learning, an agent is interacting with the world over time. We teach it good behavior by providing it with rewards.\n",
    "\n",
    "<center><img width=80% src=\"../source/img/rl.png\"/></center>\n",
    "\n",
    "<sub><sup>Image by Lily Weng</sup></sub>"
   ]
  },
  {
   "cell_type": "markdown",
   "metadata": {
    "slideshow": {
     "slide_type": "slide"
    }
   },
   "source": [
    "# Applications of Reinforcement Learning\n",
    "\n",
    "Applications of reinforcement learning include:\n",
    "* Creating __agents__ that play games such as Chess or Go.\n",
    "* __Industrial control__: automatically operating cooling systems in datacenters to use energy more efficiently.\n",
    "* __Generative design__ of new drug compounds."
   ]
  },
  {
   "cell_type": "markdown",
   "metadata": {
    "slideshow": {
     "slide_type": "slide"
    }
   },
   "source": [
    "# Artificial Intelligence and Deep Learning\n",
    "\n",
    "Machine learning is closely related to these two fields.\n",
    "* AI is about building machines that exhibit intelligence.\n",
    "* ML enables machines to learn from experience, a useful tool for AI.\n",
    "* Deep learning focuses on a family of learning algorithms loosely inspired by the brain.\n",
    "<center><img width=\"50%\" src=\"../source/img/ai_ml_dl.png\"/></center>\n",
    "\n",
    "<sub><sup>Image [source](https://towardsdatascience.com/understanding-the-difference-between-ai-ml-and-dl-cceb63252a6c).</sup></sub>"
   ]
  },
  {
   "cell_type": "markdown",
   "metadata": {
    "slideshow": {
     "slide_type": "slide"
    }
   },
   "source": [
    "# Part 3: Logistics\n",
    "\n",
    "We conclude the lecture with the logistical aspects of the course."
   ]
  },
  {
   "cell_type": "markdown",
   "metadata": {
    "slideshow": {
     "slide_type": "slide"
    }
   },
   "source": [
    "# What Is the Course About?\n",
    "\n",
    "This course studies the foundations and applications of machine learning.\n",
    "* __Algorithms__: We cover a *broad* set of ML algorithms: linear models, boosted decision trees, neural networks, SVMs, etc.\n",
    "* __Foundations__: We explain why they work using *math*. We cover maximum likelihood, generalization, regularization, etc.\n",
    "* __Implementation__: We teach how to *implement* algorithms from scratch using `numpy` or `sklearn`\n",
    "\n",
    "We also cover many practical aspects of applying machine learning."
   ]
  },
  {
   "cell_type": "markdown",
   "metadata": {
    "slideshow": {
     "slide_type": "slide"
    }
   },
   "source": [
    "# Course Contents\n",
    "\n",
    "Some of the most important sets of topics we will cover include:\n",
    "* __Supervised Learning__: Regression, Classification, Overfitting, Regularization.\n",
    "* __Unsupervised Learning__: Clustering, Dimensionality Reduction.\n",
    "* __SVMs__: Support Vector Machines, Kernel Methods.\n",
    "* __Neural Networks__: Neural networks, Deep Learning, LLMs"
   ]
  },
  {
   "cell_type": "code",
   "execution_count": null,
   "metadata": {},
   "outputs": [],
   "source": []
  }
 ],
 "metadata": {
  "accelerator": "GPU",
  "celltoolbar": "Slideshow",
  "colab": {
   "collapsed_sections": [],
   "name": "neural-ode.ipynb",
   "provenance": []
  },
  "kernelspec": {
   "display_name": "Python 3 (ipykernel)",
   "language": "python",
   "name": "python3"
  },
  "language_info": {
   "codemirror_mode": {
    "name": "ipython",
    "version": 3
   },
   "file_extension": ".py",
   "mimetype": "text/x-python",
   "name": "python",
   "nbconvert_exporter": "python",
   "pygments_lexer": "ipython3",
   "version": "3.8.20"
  },
  "rise": {
   "controlsTutorial": false,
   "height": 900,
   "help": false,
   "margin": 0,
   "maxScale": 2,
   "minScale": 0.2,
   "progress": true,
   "scroll": true,
   "theme": "simple",
   "width": 1200
  }
 },
 "nbformat": 4,
 "nbformat_minor": 4
}
