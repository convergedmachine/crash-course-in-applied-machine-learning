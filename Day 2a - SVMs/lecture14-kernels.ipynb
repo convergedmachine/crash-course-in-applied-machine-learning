{
 "cells": [
  {
   "cell_type": "markdown",
   "metadata": {
    "colab_type": "text",
    "id": "i_f5u2x9nn6I",
    "slideshow": {
     "slide_type": "slide"
    }
   },
   "source": [
    "<left><img width=25% src=\"../source/logo.png\"></left>\n",
    "\n",
    "### Applied Machine Learning\n",
    "\n",
    "## Mehmet Can Yavuz, PhD\n",
    "\n",
    "Adapted from Volodymyr Kuleshov, Cornell Tech\n",
    "\n",
    "# Lecture 14: Kernels"
   ]
  },
  {
   "cell_type": "markdown",
   "metadata": {
    "slideshow": {
     "slide_type": "slide"
    }
   },
   "source": [
    "\n",
    "# 14.1. The Kernel Trick in SVMs\n",
    "\n",
    "In the previous two lectures, we introduced linear SVMs. Kernels will be a way to make the SVM algorithm suitable for dealing with non-linear data."
   ]
  },
  {
   "cell_type": "markdown",
   "metadata": {
    "slideshow": {
     "slide_type": "slide"
    }
   },
   "source": [
    "## 14.1.1. Review: Support Vector Machines.\n",
    "\n",
    "We are given a training dataset $\\mathcal{D} = \\{(x^{(1)}, y^{(1)}), (x^{(2)}, y^{(2)}), \\ldots, (x^{(n)}, y^{(n)})\\}$.\n",
    "We are interested in binary classification, in which the target variable $y$ is discrete and takes on one of $K=2$ possible values. In this lecture, we assume that $\\mathcal{Y} = \\{-1, +1\\}$. \n",
    "\n",
    "Linear models for this binary classification can take the form\n",
    "\\begin{align*}\n",
    "f_\\theta(x) = \\theta^\\top \\phi(x) + \\theta_0,\n",
    "\\end{align*}\n",
    "where $x$ is the input and $y \\in \\{-1, 1\\}$ is the target. Support vector machines are a machine learning algorithm that fits a linear model by finding the maximum margin separating hyperplane between the two classes.\n"
   ]
  },
  {
   "cell_type": "markdown",
   "metadata": {
    "slideshow": {
     "slide_type": "slide"
    }
   },
   "source": [
    "Recall that the the max-margin hyperplane can be formulated as the solution to the following *primal* optimization problem.\n",
    "\\begin{align*}\n",
    "\\min_{\\theta,\\theta_0, \\xi}\\; & \\frac{1}{2}||\\theta||^2 + C \\sum_{i=1}^n \\xi_i \\;  \\\\\n",
    "\\text{subject to } \\; & y^{(i)}((x^{(i)})^\\top\\theta+\\theta_0)\\geq 1 - \\xi_i \\; \\text{for all $i$} \\\\\n",
    "& \\xi_i \\geq 0\n",
    "\\end{align*}"
   ]
  },
  {
   "cell_type": "markdown",
   "metadata": {
    "slideshow": {
     "slide_type": "subslide"
    }
   },
   "source": [
    "The solution to this problem also happens to be given by the following *dual* problem:\n",
    "\\begin{align*}\n",
    "\\max_{\\lambda} & \\sum_{i=1}^n \\lambda_i - \\frac{1}{2} \\sum_{i=1}^n \\sum_{k=1}^n \\lambda_i \\lambda_k y^{(i)} y^{(k)} (x^{(i)})^\\top x^{(k)}  \\\\\n",
    "\\text{subject to } \\; & \\sum_{i=1}^n \\lambda_i y^{(i)} = 0 \\\\\n",
    "& C \\geq \\lambda_i \\geq 0 \\; \\text{for all $i$}\n",
    "\\end{align*}"
   ]
  },
  {
   "cell_type": "markdown",
   "metadata": {
    "slideshow": {
     "slide_type": "slide"
    }
   },
   "source": [
    "We can obtain a primal solution from the dual via the following equation:\n",
    "$$\n",
    "\\theta^* = \\sum_{i=1}^n \\lambda_i^* y^{(i)} x^{(i)}.\n",
    "$$\n",
    "\n",
    "Ignoring the $\\theta_0$ term for now, the score at a new point $x'$ will equal\n",
    "$$\n",
    "(\\theta^*)^\\top x' = \\sum_{i=1}^n \\lambda_i^* y^{(i)}(x^{(i)})^\\top x'.\n",
    "$$"
   ]
  },
  {
   "cell_type": "markdown",
   "metadata": {
    "slideshow": {
     "slide_type": "slide"
    }
   },
   "source": [
    "## 14.1.2. The Kernel Trick in SVMs\n",
    "\n",
    "The kernel trick is a way of extending the SVM algorithm to non-linear models. We are going to introduce this trick via a concrete example.\n"
   ]
  },
  {
   "cell_type": "markdown",
   "metadata": {
    "slideshow": {
     "slide_type": "slide"
    }
   },
   "source": [
    "### 14.1.2.1. Review: Polynomial Regression\n",
    "\n",
    "In an earlier lecture, we have seen one important example of a non-linear algorithm: polynomial regression. \n",
    "Let's start with a quick recap of this algorithm. Recall that a $p$-th degree polynomial is a function of the form\n",
    "$$\n",
    "a_p x^p + a_{p-1} x^{p-1} + ... + a_{1} x + a_0.\n",
    "$$"
   ]
  },
  {
   "cell_type": "markdown",
   "metadata": {
    "slideshow": {
     "slide_type": "subslide"
    }
   },
   "source": [
    "A polynomial is a non-linear function in $x$. Nonetheless, we can use techniques we developed earlier for linear regression to fit polynomial models to data.\n",
    "\n",
    "Specifically, given a one-dimensional continuous variable $x$, we can define a feature function $\\phi : \\mathbb{R} \\to \\mathbb{R}^p$ as\n",
    "$$\\phi(x) = \\begin{bmatrix}\n",
    "1 \\\\\n",
    "x \\\\\n",
    "x^2 \\\\\n",
    "\\vdots \\\\\n",
    "x^p\n",
    "\\end{bmatrix}.\n",
    "$$"
   ]
  },
  {
   "cell_type": "markdown",
   "metadata": {
    "slideshow": {
     "slide_type": "subslide"
    }
   },
   "source": [
    "Then the class of models of the form\n",
    "$$ f_\\theta(x) := \\sum_{j=0}^p \\theta_p x^p = \\theta^\\top \\phi(x) $$\n",
    "with parameters $\\theta$ encompasses the set of $p$-degree polynomials.\n",
    "\n",
    "Crucially, observe that $f_\\theta$ is a linear model with input features $\\phi(x)$ and parameters $\\theta$. The parameters $\\theta$ are the coefficients of the polynomial. \n",
    "Thus, we can use our algorithms for linear regression to learn $\\theta$. This yields a polynomial model for $y$ given $x$ that is non-linear in $x$ (because $\\phi(x)$ is non-linear in $x$)."
   ]
  },
  {
   "cell_type": "markdown",
   "metadata": {
    "slideshow": {
     "slide_type": "subslide"
    }
   },
   "source": [
    "The disadvantage of the above approach is that it requires more features and more computation. When $x$ is a scalar, we need $O(p)$ features. When applying the normal equations to compute $\\theta$, we need $O(p^3)$ time.\n",
    "More generally, when $x$ is a $d$-dimensional vector, we will need $O(d^p)$ features to represent a full polynomial, and time complexity of applying the normal equations will be even greater."
   ]
  },
  {
   "cell_type": "markdown",
   "metadata": {
    "slideshow": {
     "slide_type": "slide"
    }
   },
   "source": [
    "### 14.1.2.2. The Kernel Trick: A First Example\n",
    "\n",
    "Our approach for making SVMs non-linear will be analogous to the idea we used in polynomial regression. We will apply the SVM algorithm not over $x$, but over non-linear (e.g., polynomial) features $x$.\n",
    "\n",
    "When $x$ is replaced by features $\\phi(x)$, the SVM algorithm is defined as follows:\n",
    "\\begin{align*}\n",
    "J(\\lambda) &= \\sum_{i=1}^n \\lambda_i - \\frac{1}{2} \\sum_{i=1}^n \\sum_{k=1}^n \\lambda_i \\lambda_k y^{(i)} y^{(k)} \\phi(x^{(i)})^\\top \\phi(x^{(k)})  \\\\\n",
    "(\\theta^*)^\\top \\phi(x') & = \\sum_{i=1}^n \\lambda_i^* y^{(i)}\\phi(x^{(i)})^\\top \\phi(x').\n",
    "\\end{align*}\n",
    "Notice that in both equations, the features $\\phi(x)$ are never used directly. Only their *dot product* is used.\n",
    "If we can compute the dot product efficiently, we can potentially use very complex features."
   ]
  },
  {
   "cell_type": "markdown",
   "metadata": {
    "slideshow": {
     "slide_type": "fragment"
    }
   },
   "source": [
    "Can we compute the dot product $\\phi(x)^\\top \\phi(x')$ of polynomial features $\\phi(x)$ more efficiently than using the standard definition of a dot product? It turns out that we can.\n",
    "Let's look at an example.\n",
    "\n",
    "To start, consider pairwise polynomial features $\\phi : \\mathbb{R}^d \\to \\mathbb{R}^{d^2}$ of the form\n",
    "$$ \\phi(x)_{ij} = x_i x_j \\;\\text{ for $i,j \\in \\{1,2,\\ldots,d\\}$}. $$"
   ]
  },
  {
   "cell_type": "markdown",
   "metadata": {
    "slideshow": {
     "slide_type": "subslide"
    }
   },
   "source": [
    "These features consist of all the pairwise products among all the entries of $x$. For $d=3$ this looks like\n",
    "$$ \\small \\phi(x) = \\begin{bmatrix}\n",
    "x_1 x_1 \\\\\n",
    "x_1 x_2 \\\\\n",
    "x_1 x_3 \\\\\n",
    "x_2 x_1 \\\\\n",
    "x_2 x_1 \\\\\n",
    "x_2 x_2 \\\\\n",
    "x_3 x_3 \\\\\n",
    "x_3 x_1 \\\\\n",
    "x_3 x_2 \\\\\n",
    "x_3 x_3 \\\\\n",
    "\\end{bmatrix}.\n",
    "$$"
   ]
  },
  {
   "cell_type": "markdown",
   "metadata": {
    "slideshow": {
     "slide_type": "subslide"
    }
   },
   "source": [
    "The product of $x$ and $z$ in feature space equals:\n",
    "$$ \\phi(x)^\\top \\phi(z) = \\sum_{i=1}^d \\sum_{j=1}^d x_i x_j z_i z_j $$\n",
    "Normally, computing this dot product involves a sum over $d^2$ terms and takes $O(d^2)$ time."
   ]
  },
  {
   "cell_type": "markdown",
   "metadata": {
    "slideshow": {
     "slide_type": "subslide"
    }
   },
   "source": [
    "An alterative way of computing the dot product $\\phi(x)^\\top \\phi(z)$ is to instead compute $(x^\\top z)^2$. One can check that this has the same result:\n",
    "\\begin{align*}\n",
    "(x^\\top z)^2 & = (\\sum_{i=1}^d x_i z_i)^2 \\\\\n",
    "& = (\\sum_{i=1}^d x_i z_i) \\cdot (\\sum_{j=1}^d x_j z_j) \\\\\n",
    "& = \\sum_{i=1}^d \\sum_{j=1}^d x_i z_i x_j z_j \\\\\n",
    "& = \\phi(x)^\\top \\phi(z)\n",
    "\\end{align*}\n",
    "But computing $(x^\\top z)^2$ can be done in only $O(d)$ time: we simply compute the dot product $x^\\top z$ in $O(d)$ time, and then square the resulting scalar. This is much faster than the naive $O(d^2)$ procedure."
   ]
  },
  {
   "cell_type": "markdown",
   "metadata": {
    "slideshow": {
     "slide_type": "slide"
    }
   },
   "source": [
    "More generally, polynomial features $\\phi_p$ of degree $p$ when $x \\in \\mathbb{R}^d$ are defined as follows:\n",
    "$$ \\phi_p(x)_{i_1, i_2, \\ldots, i_p} = x_{i_1} x_{i_2} \\cdots x_{i_p} \\;\\text{ for $i_1, i_2,  \\ldots, i_p \\in \\{1,2,\\ldots,d\\}$} $$\n",
    "The number of these features scales as $O(d^p)$. The straightforward way of computing their dot product also takes $O(d^p)$ time.\n",
    "\n",
    "However, using a version of the above argument, we can compute the dot product $\\phi_p(x)^\\top \\phi_p(z)$ in this feature space in only $O(d)$ time for any $p$ as follows:\n",
    "$$\\phi_p(x)^\\top \\phi_p(z) = (x^\\top z)^p.$$"
   ]
  },
  {
   "cell_type": "markdown",
   "metadata": {
    "slideshow": {
     "slide_type": "fragment"
    }
   },
   "source": [
    "This is a very powerful idea:\n",
    "* We can compute the dot product between $O(d^p)$ features in only $O(d)$ time.\n",
    "* We can use high-dimensional features within ML algorithms that only rely on dot products without incurring extra costs."
   ]
  },
  {
   "cell_type": "markdown",
   "metadata": {
    "slideshow": {
     "slide_type": "slide"
    }
   },
   "source": [
    "### 14.1.2.3. The General Kernel Trick in SVMs\n",
    "\n",
    "More generally, given features $\\phi(x)$, suppose that we have a function $K : \\mathcal{X} \\times \\mathcal{X} \\to [0, \\infty]$ that outputs dot products between vectors in $\\mathcal{X}$\n",
    "\n",
    "$$ K(x, z) = \\phi(x)^\\top \\phi(z). $$\n",
    "\n",
    "We will call $K$ the *kernel function*. Recall that an example of a useful kernel function is\n",
    "$$K(x,z) = (x \\cdot z)^p$$\n",
    "because it computes the dot product of polynomial features of degree $p$."
   ]
  },
  {
   "cell_type": "markdown",
   "metadata": {
    "slideshow": {
     "slide_type": "subslide"
    }
   },
   "source": [
    "Notice that we can rewrite the dual of the SVM as\n",
    "\\begin{align*}\n",
    "\\max_{\\lambda} & \\sum_{i=1}^n \\lambda_i - \\frac{1}{2} \\sum_{i=1}^n \\sum_{k=1}^n \\lambda_i \\lambda_k y^{(i)} y^{(k)} K(x^{(i)}, x^{(k)})  \\\\\n",
    "\\text{subject to } \\; & \\sum_{i=1}^n \\lambda_i y^{(i)} = 0 \\\\\n",
    "& C \\geq \\lambda_i \\geq 0 \\; \\text{for all $i$}\n",
    "\\end{align*}"
   ]
  },
  {
   "cell_type": "markdown",
   "metadata": {
    "slideshow": {
     "slide_type": "fragment"
    }
   },
   "source": [
    "Also, the predictions at a new point $x'$ are given by $$\\sum_{i=1}^n \\lambda_i^* y^{(i)} K(x^{(i)}, x').$$"
   ]
  },
  {
   "cell_type": "markdown",
   "metadata": {
    "slideshow": {
     "slide_type": "subslide"
    }
   },
   "source": [
    "We can efficiently use any features $\\phi(x)$ (e.g., polynomial features of any degree $p$) as long as the kernel functions computes the dot products of the $\\phi(x)$ efficiently. We will see several examples of kernel functions below."
   ]
  },
  {
   "cell_type": "markdown",
   "metadata": {
    "slideshow": {
     "slide_type": "slide"
    }
   },
   "source": [
    "## 14.1.3. The Kernel Trick: General Idea\n",
    "\n",
    "Many types of features $\\phi(x)$ have the property that their dot product $\\phi(x)^\\top \\phi(z)$ can be computed more efficiently than if we had to form these features explicitly. Also, we will see that many algorithms in machine learning can be written down as optimization problems in which the features $\\phi(x)$ only appear as dot products $\\phi(x)^\\top \\phi(z)$."
   ]
  },
  {
   "cell_type": "markdown",
   "metadata": {
    "slideshow": {
     "slide_type": "fragment"
    }
   },
   "source": [
    "The *Kernel Trick* means that we can use complex non-linear features within  these algorithms with little additional computational cost."
   ]
  },
  {
   "cell_type": "markdown",
   "metadata": {
    "slideshow": {
     "slide_type": "subslide"
    }
   },
   "source": [
    "Examples of algorithms in which we can use the Kernel trick:\n",
    "* Supervised learning algorithms: linear regression, logistic regression, support vector machines, etc.\n",
    "* Unsupervised learning algorithms: PCA, density estimation.\n",
    "\n",
    "We will look at more examples shortly."
   ]
  },
  {
   "cell_type": "markdown",
   "metadata": {
    "slideshow": {
     "slide_type": "slide"
    }
   },
   "source": [
    "# 14.2. Kernelized Ridge Regression\n",
    "\n",
    "Support vector machines are far from being the only algorithm that benefits from kernels.\n",
    "Another algorithm that supports kernels is Ridge regression."
   ]
  },
  {
   "cell_type": "markdown",
   "metadata": {
    "slideshow": {
     "slide_type": "slide"
    }
   },
   "source": [
    "## 14.2.1. Review: Ridge Regression\n",
    "\n",
    "Recall that a linear model has the form\n",
    "$$ f_\\theta(x) = \\theta^\\top \\phi(x). $$\n",
    "where $\\phi(x)$ is a vector of features. We pick $\\theta$ to minimize the (L2-regularized) mean squared error (MSE):\n",
    "$$J(\\theta)= \\frac{1}{2n} \\sum_{i=1}^n(y^{(i)} - \\theta^\\top \\phi(x^{(i)}))^2 + \\frac{\\lambda}{2}\\sum_{j=1}^d \\theta_j^2$$"
   ]
  },
  {
   "cell_type": "markdown",
   "metadata": {
    "slideshow": {
     "slide_type": "slide"
    }
   },
   "source": [
    "It is useful to represent the featurized dataset as a matrix $\\Phi \\in \\mathbb{R}^{n \\times p}$:\n",
    "\n",
    "$$ \\Phi = \\begin{bmatrix}\n",
    "\\phi(x^{(1)})_1 & \\phi(x^{(1)})_2 & \\ldots & \\phi(x^{(1)})_p \\\\\n",
    "\\phi(x^{(2)})_1 & \\phi(x^{(2)})_2 & \\ldots & \\phi(x^{(2)})_p \\\\\n",
    "\\vdots \\\\\n",
    "\\phi(x^{(n)})_1 & \\phi(x^{(n)})_2 & \\ldots & \\phi(x^{(n)})_p\n",
    "\\end{bmatrix}\n",
    "=\n",
    "\\begin{bmatrix}\n",
    "- & \\phi(x^{(1)})^\\top & - \\\\\n",
    "- & \\phi(x^{(2)})^\\top & - \\\\\n",
    "& \\vdots & \\\\\n",
    "- & \\phi(x^{(n)})^\\top & - \\\\\n",
    "\\end{bmatrix}\n",
    ".$$"
   ]
  },
  {
   "cell_type": "markdown",
   "metadata": {
    "slideshow": {
     "slide_type": "slide"
    }
   },
   "source": [
    "The normal equations provide a closed-form solution for $\\theta$:\n",
    "$$ \\theta = (X^\\top X  + \\lambda I)^{-1} X^\\top y.$$"
   ]
  },
  {
   "cell_type": "markdown",
   "metadata": {
    "slideshow": {
     "slide_type": "fragment"
    }
   },
   "source": [
    "When the vectors of attributes $x^{(i)}$ are featurized, we can write this as\n",
    "$$ \\theta = (\\Phi^\\top \\Phi + \\lambda I)^{-1} \\Phi^\\top y.$$"
   ]
  },
  {
   "cell_type": "markdown",
   "metadata": {
    "slideshow": {
     "slide_type": "slide"
    }
   },
   "source": [
    "## 14.2.2. A Dual Formulation for Ridge Regression\n",
    "\n",
    "We can modify this expression by using a version of the [push-through matrix identity](https://en.wikipedia.org/wiki/Woodbury_matrix_identity#Discussion):\n",
    "\n",
    "$$ (\\lambda I + U V)^{-1} U = U (\\lambda I + V U)^{-1} $$\n",
    "\n",
    "where $U \\in \\mathbb{R}^{n \\times m}$ and $V \\in \\mathbb{R}^{m \\times n}$ and $\\lambda \\neq 0$"
   ]
  },
  {
   "cell_type": "markdown",
   "metadata": {
    "slideshow": {
     "slide_type": "fragment"
    }
   },
   "source": [
    "The proof sketch is: Start with $U (\\lambda I + V U) = (\\lambda I + U V) U$ and multiply both sides by $(\\lambda I + V U)^{-1}$ on the right and $(\\lambda I + U V)^{-1}$ on the left. If you are interested, you can try to derive in detail by yourself. "
   ]
  },
  {
   "cell_type": "markdown",
   "metadata": {
    "slideshow": {
     "slide_type": "slide"
    }
   },
   "source": [
    "We can apply the identity $(\\lambda I + U V)^{-1} U = U (\\lambda I + V U)^{-1}$ to the normal equations with $U=\\Phi^\\top$ and $V=\\Phi$.\n",
    "\n",
    "$$ \\theta = (\\Phi^\\top \\Phi + \\lambda I)^{-1} \\Phi^\\top y$$"
   ]
  },
  {
   "cell_type": "markdown",
   "metadata": {
    "slideshow": {
     "slide_type": "fragment"
    }
   },
   "source": [
    "to obtain the *dual* form:\n",
    "\n",
    "$$ \\theta = \\Phi^\\top (\\Phi \\Phi^\\top + \\lambda I)^{-1} y.$$\n",
    "\n",
    "The first approach takes $O(p^3)$ time; the second is $O(n^3)$ and is faster when $p > n$."
   ]
  },
  {
   "cell_type": "markdown",
   "metadata": {
    "slideshow": {
     "slide_type": "slide"
    }
   },
   "source": [
    "## 14.2.3. Kernelized Ridge Regression\n",
    "\n",
    "An interesting corollary of the dual form\n",
    "$$ \\theta = \\Phi^\\top \\underbrace{(\\Phi \\Phi^\\top + \\lambda I)^{-1} y}_\\text{call this vector $\\alpha$} = \\Phi^T \\alpha$$\n",
    "is that the optimal $\\theta$ is a linear combination of the $n$ training set features:\n",
    "$$ \\theta = \\sum_{i=1}^n \\alpha_i \\phi(x^{(i)}). $$"
   ]
  },
  {
   "cell_type": "markdown",
   "metadata": {
    "slideshow": {
     "slide_type": "skip"
    }
   },
   "source": [
    "Here, the weights $\\alpha_i$ are derived from $(\\Phi \\Phi^\\top + \\lambda I)^{-1} y$ and equal\n",
    "$$\\alpha_i = \\sum_{j=1}^n L_{ij} y_j$$\n",
    "where $L = (\\Phi \\Phi^\\top + \\lambda I)^{-1}.$"
   ]
  },
  {
   "cell_type": "markdown",
   "metadata": {
    "slideshow": {
     "slide_type": "slide"
    }
   },
   "source": [
    "Consider now a prediction $\\phi(x')^\\top \\theta$ at a new input $x'$:\n",
    "$$\\phi(x')^\\top \\theta = \\sum_{i=1}^n \\alpha_i \\phi(x')^\\top \\phi(x^{(i)}).$$\n",
    "\n",
    "The crucial observation is that the features $\\phi(x)$ are never used directly in this equation. Only their dot product is used!"
   ]
  },
  {
   "cell_type": "markdown",
   "metadata": {
    "slideshow": {
     "slide_type": "slide"
    }
   },
   "source": [
    "We also don't need features $\\phi$ for learning $\\theta$, just their dot product! \n",
    "First, recall that each row $i$ of $\\Phi$ is the $i$-th featurized input $\\phi(x^{(i)})^\\top$.\n",
    "Thus $K = \\Phi \\Phi^\\top$ is a matrix of all dot products between all the $\\phi(x^{(i)})$\n",
    "$$K_{ij} = \\phi(x^{(i)})^\\top \\phi(x^{(j)}).$$"
   ]
  },
  {
   "cell_type": "markdown",
   "metadata": {
    "slideshow": {
     "slide_type": "fragment"
    }
   },
   "source": [
    "We can compute $\\alpha = (K+\\lambda I)^{-1}y$ and use it for predictions\n",
    "$$\\phi(x')^\\top \\theta = \\sum_{i=1}^n \\alpha_i \\phi(x')^\\top \\phi(x^{(i)}).$$\n",
    "and all this only requires dot products, not features $\\phi$!"
   ]
  },
  {
   "cell_type": "markdown",
   "metadata": {
    "slideshow": {
     "slide_type": "slide"
    }
   },
   "source": [
    "# 14.3. More on Kernels\n",
    "\n",
    "We have seen two examples of kernelized algorithms: SVM and ridge regression. Let's now look at some additional examples of kernels."
   ]
  },
  {
   "cell_type": "markdown",
   "metadata": {
    "slideshow": {
     "slide_type": "slide"
    }
   },
   "source": [
    "## 14.3.1. Definition: Kernels\n",
    "\n",
    "The *kernel* corresponding to features $\\phi(x)$ is a function $K : \\mathcal{X} \\times \\mathcal{X} \\to [0, \\infty]$ that outputs dot products between vectors in $\\mathcal{X}$\n",
    "$$ K(x, z) = \\phi(x)^\\top \\phi(z). $$\n",
    "\n",
    "We will also consider general functions $K : \\mathcal{X} \\times \\mathcal{X} \\to [0, \\infty]$ and call these *kernel functions*.\n",
    "Kernels have multiple interpretations:\n",
    "* The dot product or geometrical angle between $x$ and $z$\n",
    "* A notion of similarity between $x$ and $z$"
   ]
  },
  {
   "cell_type": "markdown",
   "metadata": {
    "slideshow": {
     "slide_type": "subslide"
    }
   },
   "source": [
    "We will look at a few examples of kernels using the following dataset. The following code visualizes the dataset."
   ]
  },
  {
   "cell_type": "code",
   "execution_count": 1,
   "metadata": {
    "slideshow": {
     "slide_type": "fragment"
    }
   },
   "outputs": [
    {
     "data": {
      "text/plain": [
       "(-3.0, 3.0)"
      ]
     },
     "execution_count": 1,
     "metadata": {},
     "output_type": "execute_result"
    },
    {
     "data": {
      "image/png": "[encoded data removed]",
      "text/plain": [
       "<Figure size 640x480 with 1 Axes>"
      ]
     },
     "metadata": {},
     "output_type": "display_data"
    }
   ],
   "source": [
    "# https://scikit-learn.org/stable/auto_examples/svm/plot_svm_kernels.html\n",
    "import numpy as np\n",
    "import matplotlib.pyplot as plt\n",
    "from sklearn import svm\n",
    "\n",
    "# Our dataset and targets\n",
    "X = np.c_[(.4, -.7), (-1.5, -1), (-1.4, -.9), (-1.3, -1.2), (-1.1, -.2), (-1.2, -.4), (-.5, 1.2), (-1.5, 2.1), (1, 1),\n",
    "          (1.3, .8), (1.2, .5), (.2, -2), (.5, -2.4), (.2, -2.3), (0, -2.7), (1.3, 2.1)].T\n",
    "Y = [0] * 8 + [1] * 8\n",
    "\n",
    "x_min, x_max = -3, 3\n",
    "y_min, y_max = -3, 3\n",
    "plt.scatter(X[:, 0], X[:, 1], c=Y, zorder=10, cmap=plt.cm.Paired, edgecolors='k', s=80)\n",
    "plt.xlim(x_min, x_max)\n",
    "plt.ylim(y_min, y_max)"
   ]
  },
  {
   "cell_type": "markdown",
   "metadata": {
    "slideshow": {
     "slide_type": "subslide"
    }
   },
   "source": [
    "The above figure is a visualization of the 2D dataset we have created. We will then use it to illustrate the difference between various kernels."
   ]
  },
  {
   "cell_type": "markdown",
   "metadata": {
    "slideshow": {
     "slide_type": "slide"
    }
   },
   "source": [
    "## 14.3.2. Examples of Kernels"
   ]
  },
  {
   "cell_type": "markdown",
   "metadata": {
    "slideshow": {
     "slide_type": "slide"
    }
   },
   "source": [
    "### 14.3.2.1. Linear Kernel\n",
    "\n",
    "The simplest kind of kernel that exists is called the linear kernel.\n",
    "This simply corresponds to dot product multiplication of the features:\n",
    "$$K(x,z) = x^\\top z$$\n",
    "\n",
    "Applied to an SVM, this corresponds to a linear decision boundary."
   ]
  },
  {
   "cell_type": "markdown",
   "metadata": {
    "slideshow": {
     "slide_type": "subslide"
    }
   },
   "source": [
    "Below is an example of how we can use the SVM implementation in `sklearn` with a linear kernel.\n",
    "Internally, this solves the dual SVM optimization problem."
   ]
  },
  {
   "cell_type": "code",
   "execution_count": 2,
   "metadata": {
    "slideshow": {
     "slide_type": "fragment"
    }
   },
   "outputs": [
    {
     "data": {
      "text/plain": [
       "(-3.0, 3.0)"
      ]
     },
     "execution_count": 2,
     "metadata": {},
     "output_type": "execute_result"
    },
    {
     "data": {
      "image/png": "[encoded data removed]",
      "text/plain": [
       "<Figure size 640x480 with 1 Axes>"
      ]
     },
     "metadata": {},
     "output_type": "display_data"
    }
   ],
   "source": [
    "# https://scikit-learn.org/stable/auto_examples/svm/plot_svm_kernels.html\n",
    "clf = svm.SVC(kernel='linear' , gamma=2)\n",
    "clf.fit(X, Y)\n",
    "\n",
    "# plot the line, the points, and the nearest vectors to the plane\n",
    "plt.scatter(clf.support_vectors_[:, 0], clf.support_vectors_[:, 1], s=80, facecolors='none', zorder=10, edgecolors='k')\n",
    "plt.scatter(X[:, 0], X[:, 1], c=Y, zorder=10, cmap=plt.cm.Paired, edgecolors='k')\n",
    "XX, YY = np.mgrid[x_min:x_max:200j, y_min:y_max:200j]\n",
    "Z = clf.decision_function(np.c_[XX.ravel(), YY.ravel()])\n",
    "\n",
    "# Put the result into a color plot\n",
    "Z = Z.reshape(XX.shape)\n",
    "plt.pcolormesh(XX, YY, Z > 0, cmap=plt.cm.Paired)\n",
    "plt.contour(XX, YY, Z, colors=['k', 'k', 'k'], linestyles=['--', '-', '--'],levels=[-.5, 0, .5])\n",
    "plt.xlim(x_min, x_max)\n",
    "plt.ylim(y_min, y_max)"
   ]
  },
  {
   "cell_type": "markdown",
   "metadata": {
    "slideshow": {
     "slide_type": "subslide"
    }
   },
   "source": [
    "The above figure shows that a linear kernel provides linear decision boundaries to separate the data."
   ]
  },
  {
   "cell_type": "markdown",
   "metadata": {
    "slideshow": {
     "slide_type": "slide"
    }
   },
   "source": [
    "### 14.3.2.2. Polynomial Kernel\n",
    "\n",
    "A more interesting example is the polynomial kernel of degree $p$, of which we have already seen a simple example:\n",
    "$$K(x,z) = (x^\\top z + c)^p.$$\n",
    "\n",
    "This corresponds to a mapping to a feature space of dimension $d+p \\choose p$ that has all monomials $x_{i_1}x_{i_2}\\cdots x_{i_p}$ of degree at most $p$."
   ]
  },
  {
   "cell_type": "markdown",
   "metadata": {
    "slideshow": {
     "slide_type": "subslide"
    }
   },
   "source": [
    "For $d=3$ this feature map looks like\n",
    "$$ \\small \\phi(x) = \\begin{bmatrix}\n",
    "x_1 x_1 \\\\\n",
    "x_1 x_2 \\\\\n",
    "x_1 x_3 \\\\\n",
    "x_2 x_1 \\\\\n",
    "x_2 x_1 \\\\\n",
    "x_2 x_2 \\\\\n",
    "x_3 x_3 \\\\\n",
    "x_3 x_1 \\\\\n",
    "x_3 x_2 \\\\\n",
    "x_3 x_3 \\\\\n",
    "\\sqrt{2}c x_1 \\\\\n",
    "\\sqrt{2}c x_2 \\\\\n",
    "\\sqrt{2}c x_3 \\\\\n",
    "c\n",
    "\\end{bmatrix}.\n",
    "$$"
   ]
  },
  {
   "cell_type": "markdown",
   "metadata": {
    "slideshow": {
     "slide_type": "subslide"
    }
   },
   "source": [
    "The polynomial kernel allows us to compute dot products in a $O(d^p)$-dimensional space in time $O(d)$.\n",
    "The following code shows how it would be implemented in `sklearn`."
   ]
  },
  {
   "cell_type": "code",
   "execution_count": 3,
   "metadata": {
    "slideshow": {
     "slide_type": "fragment"
    }
   },
   "outputs": [
    {
     "data": {
      "text/plain": [
       "(-3.0, 3.0)"
      ]
     },
     "execution_count": 3,
     "metadata": {},
     "output_type": "execute_result"
    },
    {
     "data": {
      "image/png": "[encoded data removed]",
      "text/plain": [
       "<Figure size 640x480 with 1 Axes>"
      ]
     },
     "metadata": {},
     "output_type": "display_data"
    }
   ],
   "source": [
    "# https://scikit-learn.org/stable/auto_examples/svm/plot_svm_kernels.html\n",
    "clf = svm.SVC(kernel='poly', degree=3, gamma=2)\n",
    "clf.fit(X, Y)\n",
    "\n",
    "# plot the line, the points, and the nearest vectors to the plane\n",
    "plt.scatter(clf.support_vectors_[:, 0], clf.support_vectors_[:, 1], s=80, facecolors='none', zorder=10, edgecolors='k')\n",
    "plt.scatter(X[:, 0], X[:, 1], c=Y, zorder=10, cmap=plt.cm.Paired, edgecolors='k')\n",
    "XX, YY = np.mgrid[x_min:x_max:200j, y_min:y_max:200j]\n",
    "Z = clf.decision_function(np.c_[XX.ravel(), YY.ravel()])\n",
    "\n",
    "# Put the result into a color plot\n",
    "Z = Z.reshape(XX.shape)\n",
    "plt.pcolormesh(XX, YY, Z > 0, cmap=plt.cm.Paired)\n",
    "plt.contour(XX, YY, Z, colors=['k', 'k', 'k'], linestyles=['--', '-', '--'],levels=[-.5, 0, .5])\n",
    "plt.xlim(x_min, x_max)\n",
    "plt.ylim(y_min, y_max)"
   ]
  },
  {
   "cell_type": "markdown",
   "metadata": {
    "slideshow": {
     "slide_type": "subslide"
    }
   },
   "source": [
    "The above figure is a visualization of the polynomial kernel with degree of 3 and gamma of 2. The decision boundary is non-linear, in contrast to that of linear kernels."
   ]
  },
  {
   "cell_type": "markdown",
   "metadata": {
    "slideshow": {
     "slide_type": "slide"
    }
   },
   "source": [
    "### 14.3.2.3. Radial Basis Function Kernel\n",
    "\n",
    "Another example is the Radial Basis Function (RBF; sometimes called Gaussian) kernel\n",
    "$$K(x,z) = \\exp \\left(-\\frac{||x - z||^2}{2\\sigma^2}\\right),$$\n",
    "where $\\sigma$ is a hyper-parameter. It's easiest to understand this kernel by viewing it as a similarity measure."
   ]
  },
  {
   "cell_type": "markdown",
   "metadata": {
    "slideshow": {
     "slide_type": "subslide"
    }
   },
   "source": [
    "We can show that this kernel corresponds to an *infinite-dimensional* feature map and the limit of the polynomial kernel as $p \\to \\infty$. \n",
    "\n",
    "To see why that's intuitively the case, consider the Taylor expansion\n",
    "\n",
    "$$\n",
    "\\exp \\left(-\\frac{||x - z||^2}{2\\sigma^2}\\right) \\approx 1 - \\frac{||x - z||^2}{2\\sigma^2} + \\frac{||x - z||^4}{2! \\cdot 4\\sigma^4} - \\frac{||x - z||^6}{3! \\cdot 8\\sigma^6} + \\ldots\n",
    "$$\n",
    "\n",
    "Each term on the right-hand side can be expanded into a polynomial. Thus, the above infinite series contains an infinite number of polynomial terms, and consequently an infinite number of polynomial features."
   ]
  },
  {
   "cell_type": "markdown",
   "metadata": {
    "slideshow": {
     "slide_type": "subslide"
    }
   },
   "source": [
    "We can look at the `sklearn` implementation again."
   ]
  },
  {
   "cell_type": "code",
   "execution_count": 4,
   "metadata": {
    "slideshow": {
     "slide_type": "fragment"
    }
   },
   "outputs": [
    {
     "data": {
      "text/plain": [
       "(-3.0, 3.0)"
      ]
     },
     "execution_count": 4,
     "metadata": {},
     "output_type": "execute_result"
    },
    {
     "data": {
      "image/png": "[encoded data removed]",
      "text/plain": [
       "<Figure size 640x480 with 1 Axes>"
      ]
     },
     "metadata": {},
     "output_type": "display_data"
    }
   ],
   "source": [
    "# https://scikit-learn.org/stable/auto_examples/svm/plot_svm_kernels.html\n",
    "clf = svm.SVC(kernel='rbf', gamma=.5)\n",
    "clf.fit(X, Y)\n",
    "\n",
    "# plot the line, the points, and the nearest vectors to the plane\n",
    "plt.scatter(clf.support_vectors_[:, 0], clf.support_vectors_[:, 1], s=80, facecolors='none', zorder=10, edgecolors='k')\n",
    "plt.scatter(X[:, 0], X[:, 1], c=Y, zorder=10, cmap=plt.cm.Paired, edgecolors='k')\n",
    "XX, YY = np.mgrid[x_min:x_max:200j, y_min:y_max:200j]\n",
    "Z = clf.decision_function(np.c_[XX.ravel(), YY.ravel()])\n",
    "\n",
    "# Put the result into a color plot\n",
    "Z = Z.reshape(XX.shape)\n",
    "plt.pcolormesh(XX, YY, Z > 0, cmap=plt.cm.Paired)\n",
    "plt.contour(XX, YY, Z, colors=['k', 'k', 'k'], linestyles=['--', '-', '--'],levels=[-.5, 0, .5])\n",
    "plt.xlim(x_min, x_max)\n",
    "plt.ylim(y_min, y_max)"
   ]
  },
  {
   "cell_type": "markdown",
   "metadata": {
    "slideshow": {
     "slide_type": "subslide"
    }
   },
   "source": [
    "When using an RBF kernel, we may see multiple decision boundaries around different sets of points (as well as larger number of support vectors). These unusual shapes can be viewed as the projection of a linear max-margin separating hyperplane from a higher-dimensional (or infinite-dimensional) feature space into the original 2d space where $x$ lives."
   ]
  },
  {
   "cell_type": "markdown",
   "metadata": {
    "slideshow": {
     "slide_type": "subslide"
    }
   },
   "source": [
    "There are even more kernel options in `sklearn` and we encourage you to try more of them using the same data."
   ]
  },
  {
   "cell_type": "markdown",
   "metadata": {
    "slideshow": {
     "slide_type": "slide"
    }
   },
   "source": [
    "## 14.3.3. When is $K$ A Kernel?\n",
    "\n",
    "We've seen that for many features $\\phi$ we can define a kernel function $K : \\mathcal{X} \\times \\mathcal{X} \\to [0, \\infty]$ that efficiently computes $\\phi(x)^\\top \\phi(x)$.\n",
    "Suppose now that we use some kernel function $K : \\mathcal{X} \\times \\mathcal{X} \\to [0, \\infty]$ in an ML algorithm. Is there an implicit feature mapping $\\phi$ that corresponds to using K?"
   ]
  },
  {
   "cell_type": "markdown",
   "metadata": {
    "slideshow": {
     "slide_type": "subslide"
    }
   },
   "source": [
    "Let's start by defining a necessary condition for $K : \\mathcal{X} \\times \\mathcal{X} \\to [0, \\infty]$ to be associated with a feature map.\n",
    "Suppose that $K$ is a kernel for some feature map $\\phi$, and consider an arbitrary set of $n$ points $\\{x^{(1)}, x^{(2)}, \\ldots, x^{(n)}\\}$."
   ]
  },
  {
   "cell_type": "markdown",
   "metadata": {
    "slideshow": {
     "slide_type": "subslide"
    }
   },
   "source": [
    "Consider the matrix $L \\in \\mathbb{R}^{n\\times n}$ defined as $L_{ij} = K(x^{(i)}, x^{(j)}) = \\phi(x^{(i)})^\\top \\phi(x^{(j)})$. We claim that $L$ must be symmetric and positive semidefinite.\n",
    "Indeed, $L$ is symmetric because the dot product $\\phi(x^{(i)})^\\top \\phi(x^{(j)})$ is symmetric. Moreover, for any $z$,\n",
    "\n",
    "\\begin{align*}\n",
    "z^\\top L z\n",
    "& = \\sum_{i=1}^n \\sum_{j=1}^n z_i L_{ij} z_j \n",
    " = \\sum_{i=1}^n \\sum_{j=1}^n z_i \\phi(x^{(i)})^\\top \\phi(x^{(j)}) z_j \\\\\n",
    "& = \\sum_{i=1}^n \\sum_{j=1}^n z_i (\\sum_{k=1}^n \\phi(x^{(i)})_k \\phi(x^{(j)})_k ) z_j \\\\\n",
    "& = \\sum_{k=1}^n \\sum_{i=1}^n \\sum_{j=1}^n z_i \\phi(x^{(i)})_k \\phi(x^{(j)})_k z_j \\\\\n",
    "& = \\sum_{k=1}^n \\sum_{i=1}^n \\left( z_i \\phi(x^{(i)})_k \\right)^2 \\geq 0\n",
    "\\end{align*}\n",
    "\n",
    "Thus if $K$ is a kernel, $L$ must be positive semidefinite for any $n$ points $x^{(i)}$."
   ]
  },
  {
   "cell_type": "markdown",
   "metadata": {
    "slideshow": {
     "slide_type": "slide"
    }
   },
   "source": [
    "### 14.3.3.1. Mercer's Theorem\n",
    "\n",
    "The general idea of the theorem is that: if $K$ is a kernel, $L$ must be positive semidefinite for any set of $n$ points $x^{(i)}$. \n",
    "It turns out that it is is also a sufficient condition."
   ]
  },
  {
   "cell_type": "markdown",
   "metadata": {
    "slideshow": {
     "slide_type": "fragment"
    }
   },
   "source": [
    "__Theorem.__ (Mercer) Let $K: \\mathcal{X} \\times \\mathcal{X} \\to [0,\\infty]$ be a kernel function. There exists a mapping $\\phi$ associated with $K$ if for any $n$ and any dataset $\\{x^{(1)}, x^{(2)}, \\ldots, x^{(n)}\\}$ of size $n \\geq 1$, if and only if the matrix $L$ defined as $L_{ij} = K(x^{(i)}, x^{(j)})$ is symmetric and positive semidefinite.\n",
    "\n",
    "This characterizes precisely which kernel functions correspond to some $\\phi$."
   ]
  },
  {
   "cell_type": "markdown",
   "metadata": {
    "slideshow": {
     "slide_type": "slide"
    }
   },
   "source": [
    "## 14.3.4. Pros and Cons of Kernels\n",
    "\n",
    "We have introduce many good properties of kernels. However, are kernels a free lunch? Not quite.\n",
    "\n",
    "Kernels allow us to use features $\\phi$ of very large dimension $d$. However computation is at least $O(n^2)$, where $n$ is the dataset size. We need to compute distances $K(x^{(i)}, x^{(j)})$, for all $i,j$.\n",
    "* Approximate solutions can be found more quickly, but in practice kernel methods are not used with today's massive datasets.\n",
    "* However, on small and medium-sized data, kernel methods will be at least as good as neural nets and probably much easier to train."
   ]
  },
  {
   "cell_type": "markdown",
   "metadata": {
    "slideshow": {
     "slide_type": "subslide"
    }
   },
   "source": [
    "Examples of other algorithms in which we can use kernels include:\n",
    "* Supervised learning algorithms: linear regression, logistic regression, support vector machines, etc.\n",
    "* Unsupervised learning algorithms: PCA, density estimation.\n",
    "\n",
    "Overall, kernels are very powerful because they can be used throughout machine learning. "
   ]
  }
 ],
 "metadata": {
  "accelerator": "GPU",
  "celltoolbar": "Slideshow",
  "colab": {
   "collapsed_sections": [],
   "name": "neural-ode.ipynb",
   "provenance": []
  },
  "kernelspec": {
   "display_name": "Python 3 (ipykernel)",
   "language": "python",
   "name": "python3"
  },
  "language_info": {
   "codemirror_mode": {
    "name": "ipython",
    "version": 3
   },
   "file_extension": ".py",
   "mimetype": "text/x-python",
   "name": "python",
   "nbconvert_exporter": "python",
   "pygments_lexer": "ipython3",
   "version": "3.8.20"
  },
  "rise": {
   "controlsTutorial": false,
   "height": 900,
   "help": false,
   "margin": 0,
   "maxScale": 2,
   "minScale": 0.2,
   "progress": true,
   "scroll": true,
   "theme": "simple",
   "width": 1200
  }
 },
 "nbformat": 4,
 "nbformat_minor": 4
}
